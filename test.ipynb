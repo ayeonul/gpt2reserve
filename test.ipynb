{
 "cells": [
  {
   "cell_type": "code",
   "execution_count": 1,
   "metadata": {},
   "outputs": [],
   "source": [
    "from IPython.display import Markdown"
   ]
  },
  {
   "cell_type": "markdown",
   "metadata": {},
   "source": [
    "### Init"
   ]
  },
  {
   "cell_type": "code",
   "execution_count": 2,
   "metadata": {},
   "outputs": [],
   "source": [
    "from GPTAssistant import GPTAssistant \n",
    "from dotenv import load_dotenv\n",
    "import os\n",
    "from datetime import datetime\n",
    "import pytz\n",
    "\n",
    "load_dotenv()\n",
    "\n",
    "OPENAI_KEY = os.getenv(\"OPENAI_KEY\")\n",
    "kst = pytz.timezone('Asia/Seoul')"
   ]
  },
  {
   "cell_type": "code",
   "execution_count": 3,
   "metadata": {},
   "outputs": [],
   "source": [
    "today = datetime.now().astimezone(kst)\n",
    "str_tdy = today.strftime(\"%A, %B %d, %Y\")\n",
    "str_time = today.strftime(\"%H:%M\")\n",
    "\n",
    "\n",
    "tools = [\n",
    "    {\n",
    "        \"type\": \"function\",\n",
    "        \"function\": {\n",
    "            \"name\": \"reserve_meetingroom\",\n",
    "            \"description\": \"Based on the list of entered conversations, identify the meeting location and time.\",\n",
    "            \"parameters\": {\n",
    "                \"type\": \"object\",\n",
    "                \"properties\": {\n",
    "                    \"meeting_room\": {\n",
    "                        \"type\": \"string\",\n",
    "                        \"description\": \"Meeting location inferred from the conversation list.\",\n",
    "                        \"enum\": [\"회의실1\", \"회의실2\", \"회의실3\"],\n",
    "                    },\n",
    "                    \"meeting_date\": {\n",
    "                        \"type\": \"string\",\n",
    "                        \"description\": f\"Meeting date inferred from the conversation list and display it in YYYY-mm-dd format. Today’s date is {str_tdy}. If a relative date reference (e.g., '30분 뒤', '내일', '다음 주') is mentioned, calculate the exact date accordingly. If a specific day is inferred but is earlier than today’s date, assume it refers to the same day in the next month. Ensure the date is valid by considering the last day of each month (e.g., January 31, February 28/29, March 31, etc.).\",\n",
    "                    },\n",
    "                    \"meeting_time\": {\n",
    "                        \"type\": \"string\",\n",
    "                        \"description\": f\"Meeting time inferred from the conversation list, displayed in 24-hour format (e.g., 17:30). The current time is {str_time}. If the time reference is ambiguous (e.g., no AM/PM indication), infer it as AM from 09:00 to 11:59 and as PM otherwise. If a relative time (e.g., '30분 뒤', '1시간 뒤') is mentioned, calculate the exact time accordingly. If no specific time is mentioned and no relative time reference exists, return 09:00.\",\n",
    "                    },\n",
    "                    \"meeting_topic\": {\n",
    "                        \"type\": \"string\",\n",
    "                        \"description\": \"Meeting topic inferred from the conversation list: within 30 characters, in 한국어. e.g., 'OO 사업 기획 관련 회의', 'OO사 미팅', etc.\",\n",
    "                    },\n",
    "                },\n",
    "                \"required\": [\n",
    "                    \"meeting_room\",\n",
    "                    \"meeting_date\",\n",
    "                    \"meeting_time\",\n",
    "                    \"meeting_topic\",\n",
    "                ],\n",
    "                \"additionalProperties\": False,\n",
    "            },\n",
    "            \"strict\": True,\n",
    "        },\n",
    "    }\n",
    "]"
   ]
  },
  {
   "cell_type": "code",
   "execution_count": 4,
   "metadata": {},
   "outputs": [],
   "source": [
    "concept = \"You are a auto meetingroom reservation bot. Based on the list of entered conversations, identify the meeting location and time.\""
   ]
  },
  {
   "cell_type": "code",
   "execution_count": 5,
   "metadata": {},
   "outputs": [],
   "source": [
    "assistant = GPTAssistant(\n",
    "  api_key=OPENAI_KEY,\n",
    "  model_name=\"gpt-4o-mini\",\n",
    "  instructions=concept,\n",
    "  tools=tools,\n",
    "  return_args_only=True\n",
    ")"
   ]
  },
  {
   "cell_type": "markdown",
   "metadata": {},
   "source": [
    "---\n",
    "### Run"
   ]
  },
  {
   "cell_type": "code",
   "execution_count": 6,
   "metadata": {},
   "outputs": [],
   "source": [
    "conv = [\n",
    "  {\n",
    "    \"speaker\": \"김지영 대리\",\n",
    "    \"text\":\"대표님이 30분 뒤에 우리 팀 다같이 보자네요\"\n",
    "   },\n",
    "   {\n",
    "     \"speaker\": \"권은서 주임\",\n",
    "     \"text\": \"헐 무섭다 회의실 예약할까요?\"\n",
    "   },\n",
    "   {\n",
    "     \"speaker\": \"권은찬 주임\",\n",
    "     \"text\": \"왜 부르시는지는 모르죠?\"\n",
    "   },\n",
    "   {\n",
    "    \"speaker\": \"김지영 대리\",\n",
    "    \"text\":\"네 이유는 모르겠네요;; 일단 회의실 아무데나 잡아주세요\"\n",
    "   },\n",
    "]"
   ]
  },
  {
   "cell_type": "code",
   "execution_count": 7,
   "metadata": {},
   "outputs": [],
   "source": [
    "res = assistant.first_chat(str(conv))"
   ]
  },
  {
   "cell_type": "code",
   "execution_count": 8,
   "metadata": {},
   "outputs": [
    {
     "data": {
      "text/markdown": [
       "{'meeting_room': '회의실1', 'meeting_date': '2025-02-28', 'meeting_time': '03:23', 'meeting_topic': '팀 미팅'}"
      ],
      "text/plain": [
       "<IPython.core.display.Markdown object>"
      ]
     },
     "execution_count": 8,
     "metadata": {},
     "output_type": "execute_result"
    }
   ],
   "source": [
    "Markdown(res[\"results\"][0]['output'])"
   ]
  }
 ],
 "metadata": {
  "kernelspec": {
   "display_name": "ayeonul",
   "language": "python",
   "name": "python3"
  },
  "language_info": {
   "codemirror_mode": {
    "name": "ipython",
    "version": 3
   },
   "file_extension": ".py",
   "mimetype": "text/x-python",
   "name": "python",
   "nbconvert_exporter": "python",
   "pygments_lexer": "ipython3",
   "version": "3.9.19"
  }
 },
 "nbformat": 4,
 "nbformat_minor": 2
}
